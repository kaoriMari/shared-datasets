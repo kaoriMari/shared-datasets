{
  "nbformat": 4,
  "nbformat_minor": 0,
  "metadata": {
    "colab": {
      "provenance": [],
      "authorship_tag": "ABX9TyNhmWxKdjslZ/tBDQzTIady",
      "include_colab_link": true
    },
    "kernelspec": {
      "name": "python3",
      "display_name": "Python 3"
    },
    "language_info": {
      "name": "python"
    }
  },
  "cells": [
    {
      "cell_type": "markdown",
      "metadata": {
        "id": "view-in-github",
        "colab_type": "text"
      },
      "source": [
        "<a href=\"https://colab.research.google.com/github/kaoriMari/shared-datasets/blob/main/Python_introduction.ipynb\" target=\"_parent\"><img src=\"https://colab.research.google.com/assets/colab-badge.svg\" alt=\"Open In Colab\"/></a>"
      ]
    },
    {
      "cell_type": "markdown",
      "source": [
        "Let's start our first notebook"
      ],
      "metadata": {
        "id": "6Cth02ObArfI"
      }
    },
    {
      "cell_type": "markdown",
      "source": [
        "Library: [Pandas](https://pandas.pydata.org/), [Numpy](https://numpy.org/doc/stable/)...\n",
        "\n",
        "Pour spliter les données, on va utiliser la library [Sklearn](https://scikit-learn.org/stable/modules/generated/sklearn.model_selection.train_test_split.html)"
      ],
      "metadata": {
        "id": "3MvrV5WlBA-l"
      }
    },
    {
      "cell_type": "markdown",
      "source": [
        "Pourquoi Python?\n",
        "\n",
        "\n",
        "*   Large community\n",
        "*   Forum, existing codes, existing libraries...\n",
        "*   Simple\n",
        "*   Data Science, Web, Task Automation.... -> flexible\n",
        "...\n",
        "\n"
      ],
      "metadata": {
        "id": "UlP5ib1GBdXO"
      }
    },
    {
      "cell_type": "markdown",
      "source": [
        "Importer les libraries"
      ],
      "metadata": {
        "id": "m6hBbqlBE7i1"
      }
    },
    {
      "cell_type": "code",
      "execution_count": 1,
      "metadata": {
        "id": "Nb1pPcN9Ajtu"
      },
      "outputs": [],
      "source": [
        "import pandas as pd"
      ]
    },
    {
      "cell_type": "code",
      "source": [
        "import numpy as np"
      ],
      "metadata": {
        "id": "ivPsxDYmCLIe"
      },
      "execution_count": 2,
      "outputs": []
    },
    {
      "cell_type": "markdown",
      "source": [
        "Lire le(s) fichier(s) input. Dans ce cas, nous avons un csv"
      ],
      "metadata": {
        "id": "lXl1SYy5E9qr"
      }
    },
    {
      "cell_type": "code",
      "source": [
        "table = pd.read_csv('/content/Salary_Data.csv')\n",
        "table2 = pd.read_csv(\"https://raw.githubusercontent.com/kaoriMari/shared-datasets/main/salary-data/Salary_Data.csv\")"
      ],
      "metadata": {
        "id": "zrUITH6ICWXd"
      },
      "execution_count": 4,
      "outputs": []
    },
    {
      "cell_type": "markdown",
      "source": [
        "Visualiser les données"
      ],
      "metadata": {
        "id": "noHu2LE9FDQB"
      }
    },
    {
      "cell_type": "code",
      "source": [
        "print(table)"
      ],
      "metadata": {
        "colab": {
          "base_uri": "https://localhost:8080/"
        },
        "id": "9kUc_oXQEHBa",
        "outputId": "d0e7b724-1ecd-4466-8ee1-224e7c2bd647"
      },
      "execution_count": 5,
      "outputs": [
        {
          "output_type": "stream",
          "name": "stdout",
          "text": [
            "    YearsExperience    Salary\n",
            "0               1.1   39343.0\n",
            "1               1.3   46205.0\n",
            "2               1.5   37731.0\n",
            "3               2.0   43525.0\n",
            "4               2.2   39891.0\n",
            "5               2.9   56642.0\n",
            "6               3.0   60150.0\n",
            "7               3.2   54445.0\n",
            "8               3.2   64445.0\n",
            "9               3.7   57189.0\n",
            "10              3.9   63218.0\n",
            "11              4.0   55794.0\n",
            "12              4.0   56957.0\n",
            "13              4.1   57081.0\n",
            "14              4.5   61111.0\n",
            "15              4.9   67938.0\n",
            "16              5.1   66029.0\n",
            "17              5.3   83088.0\n",
            "18              5.9   81363.0\n",
            "19              6.0   93940.0\n",
            "20              6.8   91738.0\n",
            "21              7.1   98273.0\n",
            "22              7.9  101302.0\n",
            "23              8.2  113812.0\n",
            "24              8.7  109431.0\n",
            "25              9.0  105582.0\n",
            "26              9.5  116969.0\n",
            "27              9.6  112635.0\n",
            "28             10.3  122391.0\n",
            "29             10.5  121872.0\n"
          ]
        }
      ]
    },
    {
      "cell_type": "markdown",
      "source": [
        "Définir le x (features) et le y (labels, target)\n",
        "\n",
        "Syntax:\n",
        "table['name']"
      ],
      "metadata": {
        "id": "nmgs5W-dFHNT"
      }
    },
    {
      "cell_type": "code",
      "source": [],
      "metadata": {
        "id": "lVs8a9orLXuZ"
      },
      "execution_count": null,
      "outputs": []
    },
    {
      "cell_type": "markdown",
      "source": [
        "Split dataset into TRAIN dataset and TEST/VALIDATION dataset\n",
        "\n",
        "80% / 20%\n",
        "\n",
        "75% / 25 %"
      ],
      "metadata": {
        "id": "fuVIKO6XF4q-"
      }
    },
    {
      "cell_type": "code",
      "source": [],
      "metadata": {
        "id": "t_yT9gk9FOpZ"
      },
      "execution_count": null,
      "outputs": []
    },
    {
      "cell_type": "markdown",
      "source": [
        "Supermarket example"
      ],
      "metadata": {
        "id": "8XWth5IgIMv5"
      }
    },
    {
      "cell_type": "code",
      "source": [
        "supermarket_df = pd.read_csv(\"https://raw.githubusercontent.com/kaoriMari/shared-datasets/main/supermarket-data/supermarket_sales.csv\")"
      ],
      "metadata": {
        "id": "HvDx6VnWIMMw"
      },
      "execution_count": 7,
      "outputs": []
    },
    {
      "cell_type": "code",
      "source": [
        "print(supermarket_df)"
      ],
      "metadata": {
        "colab": {
          "base_uri": "https://localhost:8080/"
        },
        "id": "3OiE2w3jIR9d",
        "outputId": "6a0e1a2d-1164-4f0c-c90c-adf79313d90f"
      },
      "execution_count": 8,
      "outputs": [
        {
          "output_type": "stream",
          "name": "stdout",
          "text": [
            "      Invoice ID Branch       City Customer type  Gender  \\\n",
            "0    750-67-8428      A     Yangon        Member  Female   \n",
            "1    226-31-3081      C  Naypyitaw        Normal  Female   \n",
            "2    631-41-3108      A     Yangon        Normal    Male   \n",
            "3    123-19-1176      A     Yangon        Member    Male   \n",
            "4    373-73-7910      A     Yangon        Normal    Male   \n",
            "..           ...    ...        ...           ...     ...   \n",
            "995  233-67-5758      C  Naypyitaw        Normal    Male   \n",
            "996  303-96-2227      B   Mandalay        Normal  Female   \n",
            "997  727-02-1313      A     Yangon        Member    Male   \n",
            "998  347-56-2442      A     Yangon        Normal    Male   \n",
            "999  849-09-3807      A     Yangon        Member  Female   \n",
            "\n",
            "               Product line  Unit price  Quantity   Tax 5%      Total  \\\n",
            "0         Health and beauty       74.69         7  26.1415   548.9715   \n",
            "1    Electronic accessories       15.28         5   3.8200    80.2200   \n",
            "2        Home and lifestyle       46.33         7  16.2155   340.5255   \n",
            "3         Health and beauty       58.22         8  23.2880   489.0480   \n",
            "4         Sports and travel       86.31         7  30.2085   634.3785   \n",
            "..                      ...         ...       ...      ...        ...   \n",
            "995       Health and beauty       40.35         1   2.0175    42.3675   \n",
            "996      Home and lifestyle       97.38        10  48.6900  1022.4900   \n",
            "997      Food and beverages       31.84         1   1.5920    33.4320   \n",
            "998      Home and lifestyle       65.82         1   3.2910    69.1110   \n",
            "999     Fashion accessories       88.34         7  30.9190   649.2990   \n",
            "\n",
            "          Date   Time      Payment    cogs  gross margin percentage  \\\n",
            "0     1/5/2019  13:08      Ewallet  522.83                 4.761905   \n",
            "1     3/8/2019  10:29         Cash   76.40                 4.761905   \n",
            "2     3/3/2019  13:23  Credit card  324.31                 4.761905   \n",
            "3    1/27/2019  20:33      Ewallet  465.76                 4.761905   \n",
            "4     2/8/2019  10:37      Ewallet  604.17                 4.761905   \n",
            "..         ...    ...          ...     ...                      ...   \n",
            "995  1/29/2019  13:46      Ewallet   40.35                 4.761905   \n",
            "996   3/2/2019  17:16      Ewallet  973.80                 4.761905   \n",
            "997   2/9/2019  13:22         Cash   31.84                 4.761905   \n",
            "998  2/22/2019  15:33         Cash   65.82                 4.761905   \n",
            "999  2/18/2019  13:28         Cash  618.38                 4.761905   \n",
            "\n",
            "     gross income  Rating  \n",
            "0         26.1415     9.1  \n",
            "1          3.8200     9.6  \n",
            "2         16.2155     7.4  \n",
            "3         23.2880     8.4  \n",
            "4         30.2085     5.3  \n",
            "..            ...     ...  \n",
            "995        2.0175     6.2  \n",
            "996       48.6900     4.4  \n",
            "997        1.5920     7.7  \n",
            "998        3.2910     4.1  \n",
            "999       30.9190     6.6  \n",
            "\n",
            "[1000 rows x 17 columns]\n"
          ]
        }
      ]
    },
    {
      "cell_type": "markdown",
      "source": [
        "Tokyo example"
      ],
      "metadata": {
        "id": "_w3LYVXII6-L"
      }
    },
    {
      "cell_type": "code",
      "source": [
        "tokyo_df = pd.read_excel('https://github.com/kaoriMari/shared-datasets/raw/main/tokyo-data/Medals.xlsx')"
      ],
      "metadata": {
        "colab": {
          "base_uri": "https://localhost:8080/"
        },
        "id": "7PD-7WHvIVgp",
        "outputId": "597ba4b6-fa60-4c14-e25f-2fc29a9b7e6e"
      },
      "execution_count": 11,
      "outputs": [
        {
          "output_type": "stream",
          "name": "stderr",
          "text": [
            "/usr/local/lib/python3.10/dist-packages/openpyxl/styles/stylesheet.py:226: UserWarning: Workbook contains no default style, apply openpyxl's default\n",
            "  warn(\"Workbook contains no default style, apply openpyxl's default\")\n"
          ]
        }
      ]
    },
    {
      "cell_type": "code",
      "source": [
        "tokyo_df2 = pd.read_excel('/content/Teams.xlsx')"
      ],
      "metadata": {
        "id": "0y2lexVtJQuo"
      },
      "execution_count": null,
      "outputs": []
    }
  ]
}